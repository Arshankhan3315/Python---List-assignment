{
 "cells": [
  {
   "cell_type": "markdown",
   "id": "48e1d309-ca0c-4317-b41a-f87f9cdae6d7",
   "metadata": {},
   "source": [
    "Python - List Assignment"
   ]
  },
  {
   "cell_type": "markdown",
   "id": "4563608c-4e78-494d-b361-343d4cf7e564",
   "metadata": {},
   "source": [
    "Question 1- What is the syntax for adding an element to a list in python"
   ]
  },
  {
   "cell_type": "markdown",
   "id": "0427cc56-f9a4-4bd0-895d-cda5bd7057cb",
   "metadata": {},
   "source": [
    "Answer 1- In python you can use the \"append()\" method of the list "
   ]
  },
  {
   "cell_type": "code",
   "execution_count": 1,
   "id": "f480eb93-8f8c-41a8-9712-6b55dbea6bf9",
   "metadata": {},
   "outputs": [],
   "source": [
    "a = [1, 2, 3, 4, 5, 6]"
   ]
  },
  {
   "cell_type": "code",
   "execution_count": 2,
   "id": "e98541b2-da23-4de8-88a5-3f059a399cfc",
   "metadata": {},
   "outputs": [],
   "source": [
    "a.append(7)"
   ]
  },
  {
   "cell_type": "code",
   "execution_count": 3,
   "id": "078317bf-f6a9-44d8-a6d1-198da1069c8b",
   "metadata": {},
   "outputs": [
    {
     "data": {
      "text/plain": [
       "[1, 2, 3, 4, 5, 6, 7]"
      ]
     },
     "execution_count": 3,
     "metadata": {},
     "output_type": "execute_result"
    }
   ],
   "source": [
    "a"
   ]
  },
  {
   "cell_type": "markdown",
   "id": "94444206-3604-4054-b26a-53904e18c1cb",
   "metadata": {},
   "source": [
    "We fist created a list called 'a' with some element than we use the 'append' method to add the value'7' to the end of the list "
   ]
  },
  {
   "cell_type": "markdown",
   "id": "cc7d24c9-89b2-460b-9892-f19594291f85",
   "metadata": {},
   "source": [
    "Question 2- What is the difference between 'remove()' and 'pop()' function in python"
   ]
  },
  {
   "cell_type": "markdown",
   "id": "f010b89a-0409-440a-8bc2-d2bc3c6e876c",
   "metadata": {},
   "source": [
    "Answer 2- The 'remove()' method is used to remove the fist occurrence of a specified element from a list "
   ]
  },
  {
   "cell_type": "code",
   "execution_count": 4,
   "id": "e213e38c-aa8c-4078-9a63-0cc3dd12325c",
   "metadata": {},
   "outputs": [],
   "source": [
    "b = [1, 2, 3, 4, 5]"
   ]
  },
  {
   "cell_type": "code",
   "execution_count": 5,
   "id": "a3bb67ad-3cf0-4416-8ca9-dd6988f91ad0",
   "metadata": {},
   "outputs": [],
   "source": [
    "b.remove(4)"
   ]
  },
  {
   "cell_type": "code",
   "execution_count": 6,
   "id": "6ca1704b-95ff-4877-9a40-0fe594791a6b",
   "metadata": {},
   "outputs": [
    {
     "data": {
      "text/plain": [
       "[1, 2, 3, 5]"
      ]
     },
     "execution_count": 6,
     "metadata": {},
     "output_type": "execute_result"
    }
   ],
   "source": [
    "b"
   ]
  },
  {
   "cell_type": "markdown",
   "id": "0d49c63c-56b3-4e3d-9617-d45b0d9b8bbc",
   "metadata": {},
   "source": [
    "The'pop' method is used to remove and return an element from a specific index in a list"
   ]
  },
  {
   "cell_type": "code",
   "execution_count": 7,
   "id": "44dbb3f1-48e8-4197-a37b-001f851e79ce",
   "metadata": {},
   "outputs": [],
   "source": [
    "c= [6, 7, 8, 9, 0]"
   ]
  },
  {
   "cell_type": "code",
   "execution_count": 9,
   "id": "e62e07cd-4309-44cc-9db8-f94db17e4010",
   "metadata": {},
   "outputs": [],
   "source": [
    "remove = c.pop(4)"
   ]
  },
  {
   "cell_type": "code",
   "execution_count": 10,
   "id": "1967c99d-a428-4a4a-a694-f827d80342ad",
   "metadata": {},
   "outputs": [
    {
     "data": {
      "text/plain": [
       "[6, 7, 8, 9]"
      ]
     },
     "execution_count": 10,
     "metadata": {},
     "output_type": "execute_result"
    }
   ],
   "source": [
    "c"
   ]
  },
  {
   "cell_type": "markdown",
   "id": "d1bdc116-0724-4c8f-9752-117e8cc76434",
   "metadata": {},
   "source": [
    "The 'pop' method is used to remove and return the element at index from the list\n",
    "\n",
    "so, the differnce between is 'remove()' and 'pop()' is that 'remove()' is used to remove a specific value from the list, while 'pop()' is used to remove an element at a specific index and return its value"
   ]
  },
  {
   "cell_type": "markdown",
   "id": "b13bec99-4ac3-454b-aacb-dd2a05d5ba73",
   "metadata": {},
   "source": [
    "Question 3- Write a pythin  code to sort a list in descending order"
   ]
  },
  {
   "cell_type": "markdown",
   "id": "eb78e59c-a8b1-4253-846c-03e77a363c26",
   "metadata": {},
   "source": [
    "Answer 3- In python, you can use the 'sort()' method of the list and set the 'reverse' parameter to 'True'"
   ]
  },
  {
   "cell_type": "code",
   "execution_count": 12,
   "id": "bbf5e138-2166-4de3-b8d3-3010a06cf3b4",
   "metadata": {},
   "outputs": [],
   "source": [
    "z= [5,8,9,3,6,1,3,0]"
   ]
  },
  {
   "cell_type": "code",
   "execution_count": 13,
   "id": "8fce1250-832c-4b59-a955-eef70d813358",
   "metadata": {},
   "outputs": [],
   "source": [
    "z.sort()"
   ]
  },
  {
   "cell_type": "code",
   "execution_count": 14,
   "id": "f710705e-3e32-4465-bf27-06b2d4c46a02",
   "metadata": {},
   "outputs": [
    {
     "data": {
      "text/plain": [
       "[0, 1, 3, 3, 5, 6, 8, 9]"
      ]
     },
     "execution_count": 14,
     "metadata": {},
     "output_type": "execute_result"
    }
   ],
   "source": [
    "z"
   ]
  },
  {
   "cell_type": "code",
   "execution_count": 15,
   "id": "842c4398-17f5-437f-aeb3-471f2ac71cda",
   "metadata": {},
   "outputs": [],
   "source": [
    "z.sort(reverse=True)"
   ]
  },
  {
   "cell_type": "code",
   "execution_count": 16,
   "id": "e78f423e-9f94-40a0-ac33-e1e3d9131cca",
   "metadata": {},
   "outputs": [
    {
     "data": {
      "text/plain": [
       "[9, 8, 6, 5, 3, 3, 1, 0]"
      ]
     },
     "execution_count": 16,
     "metadata": {},
     "output_type": "execute_result"
    }
   ],
   "source": [
    "z"
   ]
  },
  {
   "cell_type": "markdown",
   "id": "7a6c5034-0cc3-47fd-9260-dc825c260030",
   "metadata": {},
   "source": [
    "We fist create a list called 'z' with some unsorted element then we used the 'sort()' method with the 'reverse=True' parameter to sort the list in descending order Then we finally print 'z' to conform that element"
   ]
  },
  {
   "cell_type": "markdown",
   "id": "2592805a-9d1c-4803-9f91-792796c4e559",
   "metadata": {},
   "source": [
    "Question 4- Write a python code to count the number of occurrences of an  element in a list"
   ]
  },
  {
   "cell_type": "markdown",
   "id": "bec34e97-a607-49ed-ade1-ae18ab35df30",
   "metadata": {},
   "source": [
    "Answer 4- To count the number of occurrences of an element in a list in python you can used the 'count()' method of the list"
   ]
  },
  {
   "cell_type": "code",
   "execution_count": 17,
   "id": "43624b58-7c97-4689-873e-8e4ca950fb17",
   "metadata": {},
   "outputs": [
    {
     "data": {
      "text/plain": [
       "[1, 2, 3, 4, 5, 6, 7]"
      ]
     },
     "execution_count": 17,
     "metadata": {},
     "output_type": "execute_result"
    }
   ],
   "source": [
    "a"
   ]
  },
  {
   "cell_type": "code",
   "execution_count": 18,
   "id": "97e29ae8-e150-48ec-8fc3-d959be77120a",
   "metadata": {},
   "outputs": [
    {
     "data": {
      "text/plain": [
       "1"
      ]
     },
     "execution_count": 18,
     "metadata": {},
     "output_type": "execute_result"
    }
   ],
   "source": [
    "a.count(3)"
   ]
  },
  {
   "cell_type": "code",
   "execution_count": 19,
   "id": "8f8f327f-50bf-4ae7-bee6-0ce7fdc4223a",
   "metadata": {},
   "outputs": [],
   "source": [
    "y =[1,2,1,4,1,8,1,9]"
   ]
  },
  {
   "cell_type": "code",
   "execution_count": 20,
   "id": "e32c0075-e6e5-4ce9-a15e-974cc3e13df9",
   "metadata": {},
   "outputs": [
    {
     "data": {
      "text/plain": [
       "4"
      ]
     },
     "execution_count": 20,
     "metadata": {},
     "output_type": "execute_result"
    }
   ],
   "source": [
    "y.count(1)"
   ]
  },
  {
   "cell_type": "markdown",
   "id": "d0a2d01a-cc3e-4c2d-b52a-04ba7f4c9769",
   "metadata": {},
   "source": [
    "The 'count()' method  return the number of occurences of the specified element in the list. if the element is not found in the list, it return \"0\""
   ]
  },
  {
   "cell_type": "markdown",
   "id": "36efb664-4ce0-4e6f-90b6-1f1494819551",
   "metadata": {},
   "source": [
    "Question 5- Write a python code to reverce a list"
   ]
  },
  {
   "cell_type": "markdown",
   "id": "a4255b6d-3af8-4e0c-9f22-511eeef88101",
   "metadata": {},
   "source": [
    "Answer 5- Tp reverse a list in python you can used the 'reverse()' method of the list "
   ]
  },
  {
   "cell_type": "code",
   "execution_count": 21,
   "id": "1458c327-d9a6-46e1-9f4c-e3fd10a4bee4",
   "metadata": {},
   "outputs": [
    {
     "data": {
      "text/plain": [
       "[1, 2, 3, 4, 5, 6, 7]"
      ]
     },
     "execution_count": 21,
     "metadata": {},
     "output_type": "execute_result"
    }
   ],
   "source": [
    "a"
   ]
  },
  {
   "cell_type": "code",
   "execution_count": 22,
   "id": "2c4249f5-e7df-466f-8555-6627958e7e63",
   "metadata": {},
   "outputs": [],
   "source": [
    "a.reverse()"
   ]
  },
  {
   "cell_type": "code",
   "execution_count": 23,
   "id": "5a0d2edf-c5cb-4f70-b6c9-96d65f0a2e76",
   "metadata": {},
   "outputs": [
    {
     "data": {
      "text/plain": [
       "[7, 6, 5, 4, 3, 2, 1]"
      ]
     },
     "execution_count": 23,
     "metadata": {},
     "output_type": "execute_result"
    }
   ],
   "source": [
    "a"
   ]
  },
  {
   "cell_type": "code",
   "execution_count": 24,
   "id": "7cae5193-49f5-488b-a97a-cda0b2373628",
   "metadata": {},
   "outputs": [
    {
     "data": {
      "text/plain": [
       "[7, 6, 5, 4, 3, 2, 1]"
      ]
     },
     "execution_count": 24,
     "metadata": {},
     "output_type": "execute_result"
    }
   ],
   "source": [
    "a"
   ]
  },
  {
   "cell_type": "markdown",
   "id": "29bd2731-9823-43e6-8175-ef711ed20a88",
   "metadata": {},
   "source": [
    "The 'reverse()' method modifies the original list in place and return \"none\" so you shoud not assign the result of the \"reverse()' method to a varible"
   ]
  },
  {
   "cell_type": "markdown",
   "id": "f5895cd1-d8e8-4722-85bd-60e990a6c484",
   "metadata": {},
   "source": [
    "Assignment completed"
   ]
  }
 ],
 "metadata": {
  "kernelspec": {
   "display_name": "Python 3 (ipykernel)",
   "language": "python",
   "name": "python3"
  },
  "language_info": {
   "codemirror_mode": {
    "name": "ipython",
    "version": 3
   },
   "file_extension": ".py",
   "mimetype": "text/x-python",
   "name": "python",
   "nbconvert_exporter": "python",
   "pygments_lexer": "ipython3",
   "version": "3.10.8"
  }
 },
 "nbformat": 4,
 "nbformat_minor": 5
}
